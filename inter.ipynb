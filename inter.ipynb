{
 "cells": [
  {
   "cell_type": "code",
   "execution_count": 1,
   "metadata": {},
   "outputs": [],
   "source": [
    "from sympy import *\r\n",
    "import numpy as np"
   ]
  },
  {
   "cell_type": "code",
   "execution_count": 4,
   "metadata": {},
   "outputs": [
    {
     "data": {
      "text/latex": [
       "$\\displaystyle \\left[\\begin{matrix}1 & {x}_{0} & {x}_{0}^{2} & {x}_{0}^{3}\\\\1 & {x}_{1} & {x}_{1}^{2} & {x}_{1}^{3}\\\\1 & {x}_{2} & {x}_{2}^{2} & {x}_{2}^{3}\\\\1 & {x}_{3} & {x}_{3}^{2} & {x}_{3}^{3}\\end{matrix}\\right]$"
      ],
      "text/plain": [
       "Matrix([\n",
       "[1, x[0], x[0]**2, x[0]**3],\n",
       "[1, x[1], x[1]**2, x[1]**3],\n",
       "[1, x[2], x[2]**2, x[2]**3],\n",
       "[1, x[3], x[3]**2, x[3]**3]])"
      ]
     },
     "execution_count": 4,
     "metadata": {},
     "output_type": "execute_result"
    }
   ],
   "source": [
    "x = IndexedBase('x')\r\n",
    "\r\n",
    "A = Matrix([[1, x[0], x[0]**2, x[0]**3],\r\n",
    "            [1, x[1], x[1]**2, x[1]**3],\r\n",
    "            [1, x[2], x[2]**2, x[2]**3],\r\n",
    "            [1, x[3], x[3]**2, x[3]**3]])\r\n",
    "\r\n",
    "A"
   ]
  },
  {
   "cell_type": "code",
   "execution_count": 11,
   "metadata": {},
   "outputs": [
    {
     "data": {
      "text/latex": [
       "$\\displaystyle \\left[\\begin{matrix}{a}_{0} - {a}_{1} + {a}_{2} - {a}_{3}\\\\{a}_{0}\\\\{a}_{0} + 2 {a}_{1} + 4 {a}_{2} + 8 {a}_{3}\\\\{a}_{0}\\end{matrix}\\right]$"
      ],
      "text/plain": [
       "Matrix([\n",
       "[      a[0] - a[1] + a[2] - a[3]],\n",
       "[                           a[0]],\n",
       "[a[0] + 2*a[1] + 4*a[2] + 8*a[3]],\n",
       "[                           a[0]]])"
      ]
     },
     "execution_count": 11,
     "metadata": {},
     "output_type": "execute_result"
    }
   ],
   "source": [
    "x = list([-1, 0, 2, 0])\r\n",
    "\r\n",
    "An = np.array([[1, x[0], x[0]**2, x[0]**3],\r\n",
    "            [1, x[1], x[1]**2, x[1]**3],\r\n",
    "            [1, x[2], x[2]**2, x[2]**3],\r\n",
    "            [1, x[3], x[3]**2, x[3]**3]])\r\n",
    "\r\n",
    "a = IndexedBase('a')\r\n",
    "\r\n",
    "b = Matrix([[a[0]],[a[1]],[a[2]],[a[3]]])\r\n",
    "\r\n",
    "An*b\r\n"
   ]
  },
  {
   "cell_type": "code",
   "execution_count": 30,
   "metadata": {},
   "outputs": [
    {
     "data": {
      "text/latex": [
       "$\\displaystyle \\left[\\begin{matrix}{a}_{0} + {a}_{1} + {a}_{2}\\\\{a}_{0} + 4 {a}_{1} + 16 {a}_{2} - 1.386294\\\\{a}_{0} + 6 {a}_{1} + 36 {a}_{2} - 1.791759\\end{matrix}\\right]$"
      ],
      "text/plain": [
       "Matrix([\n",
       "[                a[0] + a[1] + a[2]],\n",
       "[a[0] + 4*a[1] + 16*a[2] - 1.386294],\n",
       "[a[0] + 6*a[1] + 36*a[2] - 1.791759]])"
      ]
     },
     "execution_count": 30,
     "metadata": {},
     "output_type": "execute_result"
    }
   ],
   "source": [
    "x = list([1, 4, 6])\r\n",
    "f = list([0, 1.386294, 1.791759])\r\n",
    "\r\n",
    "An = np.array([[1, x[0], x[0]**2],\r\n",
    "            [1, x[1], x[1]**2],\r\n",
    "            [1, x[2], x[2]**2]])\r\n",
    "\r\n",
    "a = IndexedBase('a')\r\n",
    "\r\n",
    "b = Matrix([[a[0]],[a[1]],[a[2]]])\r\n",
    "\r\n",
    "F = Matrix([[f[0]],[f[1]],[f[2]]])\r\n",
    "\r\n",
    "\r\n",
    "\r\n",
    "R = An*b - F\r\n",
    "L0 = R[0]\r\n",
    "L1 = R[1]\r\n",
    "L2 = R[2]\r\n",
    "R"
   ]
  },
  {
   "cell_type": "code",
   "execution_count": 46,
   "metadata": {},
   "outputs": [
    {
     "data": {
      "text/latex": [
       "$\\displaystyle \\left( -0.6695904, \\  0.7214635, \\  -0.0518731\\right)$"
      ],
      "text/plain": [
       "(-0.6695904, 0.7214635, -0.0518731)"
      ]
     },
     "execution_count": 46,
     "metadata": {},
     "output_type": "execute_result"
    }
   ],
   "source": [
    "PP = list(linsolve([L0, L1, L2], (a[0], a[1], a[2])))\r\n",
    "PP[0]"
   ]
  },
  {
   "cell_type": "code",
   "execution_count": 47,
   "metadata": {},
   "outputs": [
    {
     "data": {
      "text/latex": [
       "$\\displaystyle -1.905025$"
      ],
      "text/plain": [
       "-1.90502500000000"
      ]
     },
     "execution_count": 47,
     "metadata": {},
     "output_type": "execute_result"
    }
   ],
   "source": [
    "def fun(p):\r\n",
    "    return PP[0][0]+PP[0][1]*p+PP[0][0]*p**2\r\n",
    "\r\n",
    "fun(2)"
   ]
  }
 ],
 "metadata": {
  "interpreter": {
   "hash": "c94be41889154d41bf43aca8d1a8d1cd64b97c119170e03e2ed46ca87183f0c5"
  },
  "kernelspec": {
   "display_name": "Python 3.8.8 64-bit ('base': conda)",
   "name": "python3"
  },
  "language_info": {
   "codemirror_mode": {
    "name": "ipython",
    "version": 3
   },
   "file_extension": ".py",
   "mimetype": "text/x-python",
   "name": "python",
   "nbconvert_exporter": "python",
   "pygments_lexer": "ipython3",
   "version": "3.8.8"
  },
  "orig_nbformat": 4
 },
 "nbformat": 4,
 "nbformat_minor": 2
}